#NAME : MAHVISH ISHAQ
# DATE : 17 OCTOBER 2025    M.TECH (CSE)
# ADSA LAB 1-IMPLEMENT A SINGLY LINKED LIST TO MANAGE PATIENT DETAILS(NAME,AGE,ID). PERFORM INSERTION , DELETION OPERATIONS.

class PatientNode:
    def __init__(self, pname, page, pid):
        self.pname = pname
        self.page = page
        self.pid = pid
        self.next = None


class HospitalRecords:
    def __init__(self):
        self.start = None

    def add_patient(self, pname, page, pid):
        new_patient = PatientNode(pname, page, pid)
        if not self.start:
            self.start = new_patient
        else:
            temp = self.start
            while temp.next:
                temp = temp.next
            temp.next = new_patient
        print(f"Added Patient → Name: {pname}, Age: {page}, ID: {pid}")

    def remove_patient(self, pid):
        temp = self.start
        prev = None
        while temp:
            if temp.pid == pid:
                if prev:
                    prev.next = temp.next
                else:
                    self.start = temp.next
                print(f"Removed Patient with ID: {pid}")
                return
            prev = temp
            temp = temp.next
        print(f"No record found with ID: {pid}")

    def show_patients(self):
        temp = self.start
        if not temp:
            print("Patient database is empty.")
            return
        print("Current Patients:")
        while temp:
            print(f"Name: {temp.pname}, Age: {temp.page}, Patient ID: {temp.pid}")
            temp = temp.next


# Demonstration
records = HospitalRecords()
records.add_patient("Arjun", 30, 201)
records.add_patient("Meena", 45, 202)
records.add_patient("Vikram", 52, 203)
records.add_patient("Lakshmi", 65, 204)

records.show_patients()
records.remove_patient(202)
records.show_patients()


output:
Added Patient → Name: Arjun, Age: 30, ID: 201
Added Patient → Name: Meena, Age: 45, ID: 202
Added Patient → Name: Vikram, Age: 52, ID: 203
Added Patient → Name: Lakshmi, Age: 65, ID: 204
Current Patients:
Name: Arjun, Age: 30, Patient ID: 201
Name: Meena, Age: 45, Patient ID: 202
Name: Vikram, Age: 52, Patient ID: 203
Name: Lakshmi, Age: 65, Patient ID: 204
Removed Patient with ID: 202
Current Patients:
Name: Arjun, Age: 30, Patient ID: 201
Name: Vikram, Age: 52, Patient ID: 203
Name: Lakshmi, Age: 65, Patient ID: 204
