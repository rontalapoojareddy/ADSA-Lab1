{
  "nbformat": 4,
  "nbformat_minor": 0,
  "metadata": {
    "colab": {
      "provenance": [],
      "toc_visible": true,
      "authorship_tag": "ABX9TyP/Swu6ZFGL6NNYkoKkpITO",
      "include_colab_link": true
    },
    "kernelspec": {
      "name": "python3",
      "display_name": "Python 3"
    },
    "language_info": {
      "name": "python"
    }
  },
  "cells": [
    {
      "cell_type": "markdown",
      "metadata": {
        "id": "view-in-github",
        "colab_type": "text"
      },
      "source": [
        "<a href=\"https://colab.research.google.com/github/rontalapoojareddy/ADSA-Lab1/blob/main/ADSA-Lab1.ipynb\" target=\"_parent\"><img src=\"https://colab.research.google.com/assets/colab-badge.svg\" alt=\"Open In Colab\"/></a>"
      ]
    },
    {
      "cell_type": "code",
      "execution_count": 1,
      "metadata": {
        "colab": {
          "base_uri": "https://localhost:8080/"
        },
        "id": "fSrUqqWkjFXo",
        "outputId": "4a42156a-ee75-4cb6-9d9c-332a672119b4"
      },
      "outputs": [
        {
          "output_type": "stream",
          "name": "stdout",
          "text": [
            "Added Patient → Name: Arjun, Age: 30, ID: 201\n",
            "Added Patient → Name: Meena, Age: 45, ID: 202\n",
            "Added Patient → Name: Vikram, Age: 52, ID: 203\n",
            "Added Patient → Name: Lakshmi, Age: 65, ID: 204\n",
            "Current Patients:\n",
            "Name: Arjun, Age: 30, Patient ID: 201\n",
            "Name: Meena, Age: 45, Patient ID: 202\n",
            "Name: Vikram, Age: 52, Patient ID: 203\n",
            "Name: Lakshmi, Age: 65, Patient ID: 204\n",
            "Removed Patient with ID: 202\n",
            "Current Patients:\n",
            "Name: Arjun, Age: 30, Patient ID: 201\n",
            "Name: Vikram, Age: 52, Patient ID: 203\n",
            "Name: Lakshmi, Age: 65, Patient ID: 204\n"
          ]
        }
      ],
      "source": [
        "#NAME : Rontala Pooja Reddy\n",
        "# DATE : 17 OCTOBER 2025    M.TECH (CSE)\n",
        "# ADSA LAB 1-IMPLEMENT A SINGLY LINKED LIST TO MANAGE PATIENT DETAILS(NAME,AGE,ID). PERFORM INSERTION , DELETION OPERATIONS.\n",
        "\n",
        "class PatientNode:\n",
        "    def __init__(self, pname, page, pid):\n",
        "        self.pname = pname\n",
        "        self.page = page\n",
        "        self.pid = pid\n",
        "        self.next = None\n",
        "\n",
        "\n",
        "class HospitalRecords:\n",
        "    def __init__(self):\n",
        "        self.start = None\n",
        "\n",
        "    def add_patient(self, pname, page, pid):\n",
        "        new_patient = PatientNode(pname, page, pid)\n",
        "        if not self.start:\n",
        "            self.start = new_patient\n",
        "        else:\n",
        "            temp = self.start\n",
        "            while temp.next:\n",
        "                temp = temp.next\n",
        "            temp.next = new_patient\n",
        "        print(f\"Added Patient → Name: {pname}, Age: {page}, ID: {pid}\")\n",
        "\n",
        "    def remove_patient(self, pid):\n",
        "        temp = self.start\n",
        "        prev = None\n",
        "        while temp:\n",
        "            if temp.pid == pid:\n",
        "                if prev:\n",
        "                    prev.next = temp.next\n",
        "                else:\n",
        "                    self.start = temp.next\n",
        "                print(f\"Removed Patient with ID: {pid}\")\n",
        "                return\n",
        "            prev = temp\n",
        "            temp = temp.next\n",
        "        print(f\"No record found with ID: {pid}\")\n",
        "\n",
        "    def show_patients(self):\n",
        "        temp = self.start\n",
        "        if not temp:\n",
        "            print(\"Patient database is empty.\")\n",
        "            return\n",
        "        print(\"Current Patients:\")\n",
        "        while temp:\n",
        "            print(f\"Name: {temp.pname}, Age: {temp.page}, Patient ID: {temp.pid}\")\n",
        "            temp = temp.next\n",
        "\n",
        "\n",
        "# Demonstration\n",
        "records = HospitalRecords()\n",
        "records.add_patient(\"Arjun\", 30, 201)\n",
        "records.add_patient(\"Meena\", 45, 202)\n",
        "records.add_patient(\"Vikram\", 52, 203)\n",
        "records.add_patient(\"Lakshmi\", 65, 204)\n",
        "\n",
        "records.show_patients()\n",
        "records.remove_patient(202)\n",
        "records.show_patients()\n"
      ]
    }
  ]
}